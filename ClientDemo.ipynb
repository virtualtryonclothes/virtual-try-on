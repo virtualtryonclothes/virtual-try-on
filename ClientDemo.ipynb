{
 "cells": [
  {
   "cell_type": "code",
   "execution_count": null,
   "metadata": {
    "id": "2RCn7Nl-KQ1l"
   },
   "outputs": [
    {
     "name": "stderr",
     "output_type": "stream",
     "text": [
      "'rm' is not recognized as an internal or external command,\n",
      "operable program or batch file.\n",
      "Cloning into 'virtual-try-on'...\n",
      "fatal: helper error (-1): User cancelled dialog.\n",
      "bash: line 1: /dev/tty: No such device or address\n",
      "error: failed to execute prompt script (exit code 1)\n",
      "fatal: could not read Username for 'https://github.com': No such file or directory\n"
     ]
    },
    {
     "name": "stdout",
     "output_type": "stream",
     "text": [
      "Defaulting to user installation because normal site-packages is not writeable\n",
      "Collecting pyngrok==4.1.1\n",
      "  Downloading pyngrok-4.1.1.tar.gz (18 kB)\n",
      "  Preparing metadata (setup.py): started\n",
      "  Preparing metadata (setup.py): finished with status 'done'\n",
      "Collecting future (from pyngrok==4.1.1)\n",
      "  Downloading future-1.0.0-py3-none-any.whl.metadata (4.0 kB)\n",
      "Collecting PyYAML (from pyngrok==4.1.1)\n",
      "  Using cached PyYAML-6.0.2-cp312-cp312-win_amd64.whl.metadata (2.1 kB)\n",
      "Downloading future-1.0.0-py3-none-any.whl (491 kB)\n",
      "Using cached PyYAML-6.0.2-cp312-cp312-win_amd64.whl (156 kB)\n",
      "Building wheels for collected packages: pyngrok\n",
      "  Building wheel for pyngrok (setup.py): started\n",
      "  Building wheel for pyngrok (setup.py): finished with status 'done'\n",
      "  Created wheel for pyngrok: filename=pyngrok-4.1.1-py3-none-any.whl size=15996 sha256=3a0bf76d1f947e4859f772515773bf9c10986f0e3d72914a1e8585acb0077f83\n",
      "  Stored in directory: c:\\users\\nilesh\\appdata\\local\\pip\\cache\\wheels\\0d\\1f\\e9\\3ce954f5c5d9d30ec279ad8bc5d44666a64fb4be782cb39a2d\n",
      "Successfully built pyngrok\n",
      "Installing collected packages: PyYAML, future, pyngrok\n",
      "Successfully installed PyYAML-6.0.2 future-1.0.0 pyngrok-4.1.1\n"
     ]
    },
    {
     "name": "stderr",
     "output_type": "stream",
     "text": [
      "  WARNING: The scripts futurize.exe and pasteurize.exe are installed in 'C:\\Users\\Nilesh\\AppData\\Roaming\\Python\\Python312\\Scripts' which is not on PATH.\n",
      "  Consider adding this directory to PATH or, if you prefer to suppress this warning, use --no-warn-script-location.\n",
      "  WARNING: The scripts ngrok.exe and pyngrok.exe are installed in 'C:\\Users\\Nilesh\\AppData\\Roaming\\Python\\Python312\\Scripts' which is not on PATH.\n",
      "  Consider adding this directory to PATH or, if you prefer to suppress this warning, use --no-warn-script-location.\n"
     ]
    },
    {
     "name": "stdout",
     "output_type": "stream",
     "text": [
      "Defaulting to user installation because normal site-packages is not writeable\n",
      "Requirement already satisfied: flask-ngrok in c:\\users\\nilesh\\appdata\\roaming\\python\\python312\\site-packages (0.0.25)\n",
      "Requirement already satisfied: pillow in c:\\users\\nilesh\\appdata\\roaming\\python\\python312\\site-packages (11.0.0)\n",
      "Requirement already satisfied: requests in c:\\users\\nilesh\\appdata\\roaming\\python\\python312\\site-packages (2.23.0)\n",
      "Requirement already satisfied: Flask>=0.8 in c:\\users\\nilesh\\appdata\\roaming\\python\\python312\\site-packages (from flask-ngrok) (3.1.0)\n",
      "Requirement already satisfied: chardet<4,>=3.0.2 in c:\\users\\nilesh\\appdata\\roaming\\python\\python312\\site-packages (from requests) (3.0.4)\n",
      "Requirement already satisfied: idna<3,>=2.5 in c:\\users\\nilesh\\appdata\\roaming\\python\\python312\\site-packages (from requests) (2.10)\n",
      "Requirement already satisfied: urllib3!=1.25.0,!=1.25.1,<1.26,>=1.21.1 in c:\\users\\nilesh\\appdata\\roaming\\python\\python312\\site-packages (from requests) (1.25.11)\n",
      "Requirement already satisfied: certifi>=2017.4.17 in c:\\users\\nilesh\\appdata\\roaming\\python\\python312\\site-packages (from requests) (2024.8.30)\n",
      "Requirement already satisfied: Werkzeug>=3.1 in c:\\users\\nilesh\\appdata\\roaming\\python\\python312\\site-packages (from Flask>=0.8->flask-ngrok) (3.1.3)\n",
      "Requirement already satisfied: Jinja2>=3.1.2 in c:\\users\\nilesh\\appdata\\roaming\\python\\python312\\site-packages (from Flask>=0.8->flask-ngrok) (3.1.4)\n",
      "Requirement already satisfied: itsdangerous>=2.2 in c:\\users\\nilesh\\appdata\\roaming\\python\\python312\\site-packages (from Flask>=0.8->flask-ngrok) (2.2.0)\n",
      "Requirement already satisfied: click>=8.1.3 in c:\\users\\nilesh\\appdata\\roaming\\python\\python312\\site-packages (from Flask>=0.8->flask-ngrok) (8.1.7)\n",
      "Requirement already satisfied: blinker>=1.9 in c:\\users\\nilesh\\appdata\\roaming\\python\\python312\\site-packages (from Flask>=0.8->flask-ngrok) (1.9.0)\n",
      "Requirement already satisfied: colorama in c:\\users\\nilesh\\appdata\\roaming\\python\\python312\\site-packages (from click>=8.1.3->Flask>=0.8->flask-ngrok) (0.4.6)\n",
      "Requirement already satisfied: MarkupSafe>=2.0 in c:\\users\\nilesh\\appdata\\roaming\\python\\python312\\site-packages (from Jinja2>=3.1.2->Flask>=0.8->flask-ngrok) (3.0.2)\n"
     ]
    },
    {
     "name": "stderr",
     "output_type": "stream",
     "text": [
      "'ngrok' is not recognized as an internal or external command,\n",
      "operable program or batch file.\n"
     ]
    }
   ],
   "source": [
    "!rm -rf /content/virtual-try-on\n",
    "!git clone https://github.com/virtualtryonclothes/virtual-try-on.git\n",
    "!pip install pyngrok==4.1.1\n",
    "!pip install flask-ngrok pillow requests\n",
    "!ngrok authtoken 2p6LBZi7cibtrEvLFf0kFeKYjKQ_6myFdmD9vnXN2kmgK7chq"
   ]
  },
  {
   "cell_type": "code",
   "execution_count": null,
   "metadata": {
    "id": "bX0Zmql8N4kE"
   },
   "outputs": [
    {
     "name": "stderr",
     "output_type": "stream",
     "text": [
      "python: can't open file 'c:\\\\content\\\\virtual-try-on\\\\app.py': [Errno 2] No such file or directory\n"
     ]
    }
   ],
   "source": [
    "!python /content/virtual-try-on/app.py"
   ]
  }
 ],
 "metadata": {
  "colab": {
   "provenance": []
  },
  "kernelspec": {
   "display_name": "Python 3",
   "name": "python3"
  },
  "language_info": {
   "codemirror_mode": {
    "name": "ipython",
    "version": 3
   },
   "file_extension": ".py",
   "mimetype": "text/x-python",
   "name": "python",
   "nbconvert_exporter": "python",
   "pygments_lexer": "ipython3",
   "version": "3.11.3"
  }
 },
 "nbformat": 4,
 "nbformat_minor": 0
}
